{
  "nbformat": 4,
  "nbformat_minor": 0,
  "metadata": {
    "colab": {
      "provenance": [],
      "gpuType": "T4",
      "authorship_tag": "ABX9TyO7+hrm4YIa305aUYapQdUD",
      "include_colab_link": true
    },
    "kernelspec": {
      "name": "python3",
      "display_name": "Python 3"
    },
    "language_info": {
      "name": "python"
    },
    "accelerator": "GPU"
  },
  "cells": [
    {
      "cell_type": "markdown",
      "metadata": {
        "id": "view-in-github",
        "colab_type": "text"
      },
      "source": [
        "<a href=\"https://colab.research.google.com/github/tkalra11/PyTorch_FCC/blob/master/00_pytorch_fundamentals_run.ipynb\" target=\"_parent\"><img src=\"https://colab.research.google.com/assets/colab-badge.svg\" alt=\"Open In Colab\"/></a>"
      ]
    },
    {
      "cell_type": "markdown",
      "source": [
        "# PyTorch Fundaamentals"
      ],
      "metadata": {
        "id": "aWYjjcqTcHgh"
      }
    },
    {
      "cell_type": "code",
      "execution_count": 1,
      "metadata": {
        "id": "d09JLmbUiY1Y"
      },
      "outputs": [],
      "source": [
        "import numpy as np\n",
        "import pandas as pd\n",
        "import torch"
      ]
    },
    {
      "cell_type": "code",
      "source": [
        "some_tensor = torch.rand((3,4))"
      ],
      "metadata": {
        "id": "TblQ8rsRivD6"
      },
      "execution_count": 2,
      "outputs": []
    },
    {
      "cell_type": "code",
      "source": [
        "print(some_tensor)\n",
        "print(f\"Datatype of the tensor : {some_tensor.dtype}\")\n",
        "print(f\"Shape of the tensor :  {some_tensor.shape}\")\n",
        "print(f\"Device the tensor is on  : {some_tensor.device}\")"
      ],
      "metadata": {
        "colab": {
          "base_uri": "https://localhost:8080/"
        },
        "id": "fh5oPC3ojJoo",
        "outputId": "d490a427-631d-42aa-c109-c63299cc5be2"
      },
      "execution_count": 3,
      "outputs": [
        {
          "output_type": "stream",
          "name": "stdout",
          "text": [
            "tensor([[0.7610, 0.9172, 0.1563, 0.8420],\n",
            "        [0.0133, 0.5007, 0.6630, 0.0950],\n",
            "        [0.9425, 0.8204, 0.5240, 0.7089]])\n",
            "Datatype of the tensor : torch.float32\n",
            "Shape of the tensor :  torch.Size([3, 4])\n",
            "Device the tensor is on  : cpu\n"
          ]
        }
      ]
    },
    {
      "cell_type": "markdown",
      "source": [
        "### Tensor operations :\n",
        "\n",
        "*   Addition\n",
        "*   Subtraction\n",
        "*   Element wise multiplication\n",
        "*   Division\n",
        "*   Matrix Multiplication"
      ],
      "metadata": {
        "id": "nerhhrDKji1w"
      }
    },
    {
      "cell_type": "code",
      "source": [
        "#Creating a tensor\n",
        "tensor = torch.tensor([1,2,3])"
      ],
      "metadata": {
        "id": "e-XVtvU3j7Cm"
      },
      "execution_count": 4,
      "outputs": []
    },
    {
      "cell_type": "code",
      "source": [
        "#Addition\n",
        "tensor + 10"
      ],
      "metadata": {
        "colab": {
          "base_uri": "https://localhost:8080/"
        },
        "id": "vvg5frO-k_IN",
        "outputId": "5b1ff8e4-3138-4e4a-ff34-60186dd386c7"
      },
      "execution_count": 5,
      "outputs": [
        {
          "output_type": "execute_result",
          "data": {
            "text/plain": [
              "tensor([11, 12, 13])"
            ]
          },
          "metadata": {},
          "execution_count": 5
        }
      ]
    },
    {
      "cell_type": "code",
      "source": [
        "#Subtraction\n",
        "tensor - 1"
      ],
      "metadata": {
        "colab": {
          "base_uri": "https://localhost:8080/"
        },
        "id": "ETICwbj0k1A4",
        "outputId": "8a188c55-358b-41b1-9e08-54cb6601d66c"
      },
      "execution_count": 6,
      "outputs": [
        {
          "output_type": "execute_result",
          "data": {
            "text/plain": [
              "tensor([0, 1, 2])"
            ]
          },
          "metadata": {},
          "execution_count": 6
        }
      ]
    },
    {
      "cell_type": "code",
      "source": [
        "#Element wise multiplication\n",
        "tensor  * 10"
      ],
      "metadata": {
        "colab": {
          "base_uri": "https://localhost:8080/"
        },
        "id": "31y2H2f5kYaG",
        "outputId": "6322bbec-8297-4839-9c3c-3a8721c93906"
      },
      "execution_count": 7,
      "outputs": [
        {
          "output_type": "execute_result",
          "data": {
            "text/plain": [
              "tensor([10, 20, 30])"
            ]
          },
          "metadata": {},
          "execution_count": 7
        }
      ]
    },
    {
      "cell_type": "code",
      "source": [
        "#Division\n",
        "tensor / 5"
      ],
      "metadata": {
        "colab": {
          "base_uri": "https://localhost:8080/"
        },
        "id": "XoGvQGXZkxHl",
        "outputId": "4d7ccd7d-f96d-421c-ca02-ad6b2e13f3ca"
      },
      "execution_count": 8,
      "outputs": [
        {
          "output_type": "execute_result",
          "data": {
            "text/plain": [
              "tensor([0.2000, 0.4000, 0.6000])"
            ]
          },
          "metadata": {},
          "execution_count": 8
        }
      ]
    },
    {
      "cell_type": "code",
      "source": [
        "#inbuilt functions\n",
        "\n",
        "torch.add(tensor,10)"
      ],
      "metadata": {
        "colab": {
          "base_uri": "https://localhost:8080/"
        },
        "id": "mrExMkY-kzJV",
        "outputId": "3147bacd-f12b-4235-c1da-d15096191745"
      },
      "execution_count": 9,
      "outputs": [
        {
          "output_type": "execute_result",
          "data": {
            "text/plain": [
              "tensor([11, 12, 13])"
            ]
          },
          "metadata": {},
          "execution_count": 9
        }
      ]
    },
    {
      "cell_type": "code",
      "source": [
        "torch.mul(tensor,10)"
      ],
      "metadata": {
        "colab": {
          "base_uri": "https://localhost:8080/"
        },
        "id": "nqKBSisblP3N",
        "outputId": "0e97d1fc-1c6d-4817-f448-bbac39b5c84f"
      },
      "execution_count": 10,
      "outputs": [
        {
          "output_type": "execute_result",
          "data": {
            "text/plain": [
              "tensor([10, 20, 30])"
            ]
          },
          "metadata": {},
          "execution_count": 10
        }
      ]
    },
    {
      "cell_type": "markdown",
      "source": [
        "### Matrix multiplication\n",
        "\n",
        "Details => https://www.mathsisfun.com/algebra/matrix-multiplying.html\n",
        "\n",
        "Rules :\n",
        "\n",
        "1. The **inner dimensions** must match:\n",
        "*   `(3,2) @ (3,2)` won't work\n",
        "*   `(2,3) @ (3,2)` will work\n",
        "2.  The resulting matrix has the shape of the **outer dimensions**:\n",
        "*   `(2,3) @ (3,2)` -> `(2,2)`\n",
        "*   `(3,2) @ (2,3)` -> `(3,3)`\n",
        "\n"
      ],
      "metadata": {
        "id": "KRyhsk0alYNV"
      }
    },
    {
      "cell_type": "code",
      "source": [
        "# Element wise\n",
        "\n",
        "print(f\"{tensor} * {tensor} = {tensor*tensor}\")"
      ],
      "metadata": {
        "colab": {
          "base_uri": "https://localhost:8080/"
        },
        "id": "zlaAq_-nlqq4",
        "outputId": "d1aff4a5-842a-4b93-8fd2-1dab394dff20"
      },
      "execution_count": 11,
      "outputs": [
        {
          "output_type": "stream",
          "name": "stdout",
          "text": [
            "tensor([1, 2, 3]) * tensor([1, 2, 3]) = tensor([1, 4, 9])\n"
          ]
        }
      ]
    },
    {
      "cell_type": "code",
      "source": [
        "#Matrix multiplication\n",
        "\n",
        "print(f\"{tensor} * {tensor} = {torch.matmul(tensor,tensor)}\")"
      ],
      "metadata": {
        "colab": {
          "base_uri": "https://localhost:8080/"
        },
        "id": "wxIIEhWKmWJs",
        "outputId": "81887d7f-5f35-4cd3-f40e-dd705819d3e0"
      },
      "execution_count": 12,
      "outputs": [
        {
          "output_type": "stream",
          "name": "stdout",
          "text": [
            "tensor([1, 2, 3]) * tensor([1, 2, 3]) = 14\n"
          ]
        }
      ]
    },
    {
      "cell_type": "markdown",
      "source": [
        "## Shape errors"
      ],
      "metadata": {
        "id": "WSEMwYU8me-E"
      }
    },
    {
      "cell_type": "code",
      "source": [
        "tensor_A = torch.tensor([[1,2],\n",
        "                                        [3,4],\n",
        "                                        [5,6]])\n",
        "tensor_B = torch.tensor([[7,8],\n",
        "                                        [9,10],\n",
        "                                        [11,12]])\n",
        "# torch.matmul(tensor_A,tensor_B)"
      ],
      "metadata": {
        "id": "NVIy43STpaSz"
      },
      "execution_count": 13,
      "outputs": []
    },
    {
      "cell_type": "code",
      "source": [
        "tensor_A.shape,tensor_B.shape"
      ],
      "metadata": {
        "colab": {
          "base_uri": "https://localhost:8080/"
        },
        "id": "hcEB5tbaphHm",
        "outputId": "188c97a6-7c92-4705-b841-8382304dcd2a"
      },
      "execution_count": 14,
      "outputs": [
        {
          "output_type": "execute_result",
          "data": {
            "text/plain": [
              "(torch.Size([3, 2]), torch.Size([3, 2]))"
            ]
          },
          "metadata": {},
          "execution_count": 14
        }
      ]
    },
    {
      "cell_type": "markdown",
      "source": [
        "To fix this issue we can manipulate on tensor by transposing.\n",
        "\n",
        "A **transpose** switches the axis or the dimension of a given tensor."
      ],
      "metadata": {
        "id": "_2xBE-esp9xi"
      }
    },
    {
      "cell_type": "code",
      "source": [
        "tensor_B.T"
      ],
      "metadata": {
        "colab": {
          "base_uri": "https://localhost:8080/"
        },
        "id": "DsGAne2aqV_g",
        "outputId": "2722e0b9-8682-427e-8c4e-208fcce37e79"
      },
      "execution_count": 15,
      "outputs": [
        {
          "output_type": "execute_result",
          "data": {
            "text/plain": [
              "tensor([[ 7,  9, 11],\n",
              "        [ 8, 10, 12]])"
            ]
          },
          "metadata": {},
          "execution_count": 15
        }
      ]
    },
    {
      "cell_type": "code",
      "source": [
        "torch.matmul(tensor_A,tensor_B.T)"
      ],
      "metadata": {
        "colab": {
          "base_uri": "https://localhost:8080/"
        },
        "id": "QFI30P6jqaQo",
        "outputId": "9191b820-1357-4e70-a4bb-302f51f15d30"
      },
      "execution_count": 16,
      "outputs": [
        {
          "output_type": "execute_result",
          "data": {
            "text/plain": [
              "tensor([[ 23,  29,  35],\n",
              "        [ 53,  67,  81],\n",
              "        [ 83, 105, 127]])"
            ]
          },
          "metadata": {},
          "execution_count": 16
        }
      ]
    },
    {
      "cell_type": "markdown",
      "source": [
        "## Finding the min,max,sum,etc of a tensor (tensor aggregations)"
      ],
      "metadata": {
        "id": "jxVxCZeDqhSQ"
      }
    },
    {
      "cell_type": "code",
      "source": [
        "#Create a tesnor\n",
        "x = torch.arange(0,100,10)\n",
        "x"
      ],
      "metadata": {
        "colab": {
          "base_uri": "https://localhost:8080/"
        },
        "id": "jNAnqyQdufHk",
        "outputId": "68358db1-86f6-4f5b-a946-c40d9abb1d64"
      },
      "execution_count": 17,
      "outputs": [
        {
          "output_type": "execute_result",
          "data": {
            "text/plain": [
              "tensor([ 0, 10, 20, 30, 40, 50, 60, 70, 80, 90])"
            ]
          },
          "metadata": {},
          "execution_count": 17
        }
      ]
    },
    {
      "cell_type": "code",
      "source": [
        "#Min\n",
        "torch.min(x) #or x.min()"
      ],
      "metadata": {
        "colab": {
          "base_uri": "https://localhost:8080/"
        },
        "id": "BG2u5wOFulX1",
        "outputId": "50364cd0-4ab7-4924-c95d-1a54dc92b32b"
      },
      "execution_count": 18,
      "outputs": [
        {
          "output_type": "execute_result",
          "data": {
            "text/plain": [
              "tensor(0)"
            ]
          },
          "metadata": {},
          "execution_count": 18
        }
      ]
    },
    {
      "cell_type": "code",
      "source": [
        "#Max\n",
        "torch.max(x) #or x.max()"
      ],
      "metadata": {
        "colab": {
          "base_uri": "https://localhost:8080/"
        },
        "id": "37EDkxycuoBs",
        "outputId": "e2e339bc-0450-4d13-c5c4-5dbedc4d0bcf"
      },
      "execution_count": 19,
      "outputs": [
        {
          "output_type": "execute_result",
          "data": {
            "text/plain": [
              "tensor(90)"
            ]
          },
          "metadata": {},
          "execution_count": 19
        }
      ]
    },
    {
      "cell_type": "code",
      "source": [
        "#Mean - works with either a floating point or complex dtype tensors\n",
        "torch.mean(x.type(torch.float32)) #or x.mean() "
      ],
      "metadata": {
        "colab": {
          "base_uri": "https://localhost:8080/"
        },
        "id": "dYbFFw0Ouo8l",
        "outputId": "e53ee2b7-c85d-4a2b-859a-0b832c8211bd"
      },
      "execution_count": 20,
      "outputs": [
        {
          "output_type": "execute_result",
          "data": {
            "text/plain": [
              "tensor(45.)"
            ]
          },
          "metadata": {},
          "execution_count": 20
        }
      ]
    },
    {
      "cell_type": "code",
      "source": [
        "#Sum\n",
        "torch.sum(x) # or x.sum()"
      ],
      "metadata": {
        "colab": {
          "base_uri": "https://localhost:8080/"
        },
        "id": "C9vPxZQru0T9",
        "outputId": "9827aa2f-0eb1-4653-aa22-814632c2efa3"
      },
      "execution_count": 21,
      "outputs": [
        {
          "output_type": "execute_result",
          "data": {
            "text/plain": [
              "tensor(450)"
            ]
          },
          "metadata": {},
          "execution_count": 21
        }
      ]
    },
    {
      "cell_type": "markdown",
      "source": [
        "### Positional min and max"
      ],
      "metadata": {
        "id": "rNcu-rnpu0Wc"
      }
    },
    {
      "cell_type": "code",
      "source": [
        "x"
      ],
      "metadata": {
        "colab": {
          "base_uri": "https://localhost:8080/"
        },
        "id": "IS6m96oMu0Y6",
        "outputId": "141c2491-d5a9-47f1-8666-13851dacd900"
      },
      "execution_count": 22,
      "outputs": [
        {
          "output_type": "execute_result",
          "data": {
            "text/plain": [
              "tensor([ 0, 10, 20, 30, 40, 50, 60, 70, 80, 90])"
            ]
          },
          "metadata": {},
          "execution_count": 22
        }
      ]
    },
    {
      "cell_type": "code",
      "source": [
        "x.argmin()"
      ],
      "metadata": {
        "id": "pNvn8i0au0bl",
        "colab": {
          "base_uri": "https://localhost:8080/"
        },
        "outputId": "8b7671af-bacc-4ff3-cbda-e3b383e0a9ad"
      },
      "execution_count": 23,
      "outputs": [
        {
          "output_type": "execute_result",
          "data": {
            "text/plain": [
              "tensor(0)"
            ]
          },
          "metadata": {},
          "execution_count": 23
        }
      ]
    },
    {
      "cell_type": "code",
      "source": [
        "x.argmax()"
      ],
      "metadata": {
        "id": "3UyoYXZQu0dy",
        "colab": {
          "base_uri": "https://localhost:8080/"
        },
        "outputId": "410f95ad-4fab-423c-d68c-7907a2b05783"
      },
      "execution_count": 24,
      "outputs": [
        {
          "output_type": "execute_result",
          "data": {
            "text/plain": [
              "tensor(9)"
            ]
          },
          "metadata": {},
          "execution_count": 24
        }
      ]
    },
    {
      "cell_type": "markdown",
      "source": [
        "## Reshaping,squeezing,unsqueezing,stacking\n",
        "\n",
        "*   Reshaping - reshapes input tensor -> defined shape\n",
        "*   View - return view of input tensor of a certain shape but keep original in memory\n",
        "*   Stacking - combine multiple tensors on top of each other(vstack) or side by side(hstack)\n",
        "*   Squeeze - removes all `1-d` of a tensor\n",
        "*   Unsqueeze - add a `1-d` to a tensor\n",
        "*   Permute - retuen a view of the input tensor with dimensions permuted(swapped) in a certain way"
      ],
      "metadata": {
        "id": "d8VaRgmSu0g1"
      }
    },
    {
      "cell_type": "code",
      "source": [
        "import numpy as np\n",
        "import pandas as pd\n",
        "import torch"
      ],
      "metadata": {
        "id": "IdJXqpf-GgaB"
      },
      "execution_count": 25,
      "outputs": []
    },
    {
      "cell_type": "code",
      "source": [
        "# create a tensor\n",
        "\n",
        "y =torch.arange(1.,10.)\n",
        "y , y.shape"
      ],
      "metadata": {
        "colab": {
          "base_uri": "https://localhost:8080/"
        },
        "id": "bdJ2sM8xu0i6",
        "outputId": "9676c724-da6d-4103-cafe-097a8a3250cf"
      },
      "execution_count": 26,
      "outputs": [
        {
          "output_type": "execute_result",
          "data": {
            "text/plain": [
              "(tensor([1., 2., 3., 4., 5., 6., 7., 8., 9.]), torch.Size([9]))"
            ]
          },
          "metadata": {},
          "execution_count": 26
        }
      ]
    },
    {
      "cell_type": "code",
      "source": [
        "# reshaping\n",
        "y_reshaped = y.reshape(1,9)\n",
        "y_reshaped"
      ],
      "metadata": {
        "colab": {
          "base_uri": "https://localhost:8080/"
        },
        "id": "HsEiZpfIabdz",
        "outputId": "8dd8fbce-3c82-4eec-d3bf-c20572aad6c6"
      },
      "execution_count": 27,
      "outputs": [
        {
          "output_type": "execute_result",
          "data": {
            "text/plain": [
              "tensor([[1., 2., 3., 4., 5., 6., 7., 8., 9.]])"
            ]
          },
          "metadata": {},
          "execution_count": 27
        }
      ]
    },
    {
      "cell_type": "code",
      "source": [
        "# view - the view shares the same memory as the original tensor;so any change to view changes the original tensor too\n",
        "\n",
        "z=y.view(1,9)\n",
        "z,z.shape"
      ],
      "metadata": {
        "id": "sZJg3dAgabgg",
        "colab": {
          "base_uri": "https://localhost:8080/"
        },
        "outputId": "496ce448-422d-441d-fb04-3cb41b8e733d"
      },
      "execution_count": 28,
      "outputs": [
        {
          "output_type": "execute_result",
          "data": {
            "text/plain": [
              "(tensor([[1., 2., 3., 4., 5., 6., 7., 8., 9.]]), torch.Size([1, 9]))"
            ]
          },
          "metadata": {},
          "execution_count": 28
        }
      ]
    },
    {
      "cell_type": "code",
      "source": [
        "z[:,0] = 5\n",
        "z,y"
      ],
      "metadata": {
        "id": "QEstHvcaabjK",
        "colab": {
          "base_uri": "https://localhost:8080/"
        },
        "outputId": "6062ceb1-be21-4e8b-dc50-51ff45513fa4"
      },
      "execution_count": 29,
      "outputs": [
        {
          "output_type": "execute_result",
          "data": {
            "text/plain": [
              "(tensor([[5., 2., 3., 4., 5., 6., 7., 8., 9.]]),\n",
              " tensor([5., 2., 3., 4., 5., 6., 7., 8., 9.]))"
            ]
          },
          "metadata": {},
          "execution_count": 29
        }
      ]
    },
    {
      "cell_type": "code",
      "source": [
        "y_stacked = torch.stack([y,y,y,y],dim=1)\n",
        "y_stacked.shape,y_stacked"
      ],
      "metadata": {
        "id": "eOHZ_05JablU",
        "colab": {
          "base_uri": "https://localhost:8080/"
        },
        "outputId": "8a8036ea-e209-4732-b13e-b7d79f226dd2"
      },
      "execution_count": 30,
      "outputs": [
        {
          "output_type": "execute_result",
          "data": {
            "text/plain": [
              "(torch.Size([9, 4]),\n",
              " tensor([[5., 5., 5., 5.],\n",
              "         [2., 2., 2., 2.],\n",
              "         [3., 3., 3., 3.],\n",
              "         [4., 4., 4., 4.],\n",
              "         [5., 5., 5., 5.],\n",
              "         [6., 6., 6., 6.],\n",
              "         [7., 7., 7., 7.],\n",
              "         [8., 8., 8., 8.],\n",
              "         [9., 9., 9., 9.]]))"
            ]
          },
          "metadata": {},
          "execution_count": 30
        }
      ]
    },
    {
      "cell_type": "markdown",
      "source": [
        "Stacking also includes : \n",
        "*   `vstack()` -> https://pytorch.org/docs/stable/generated/torch.vstack.html\n",
        "*   `hstack()` -> https://pytorch.org/docs/stable/generated/torch.hstack.html"
      ],
      "metadata": {
        "id": "VhKjT26eabnz"
      }
    },
    {
      "cell_type": "markdown",
      "source": [
        "Squeezing : `squeeze()` -> https://pytorch.org/docs/stable/generated/torch.squeeze.html\n",
        "\n",
        "Unsqueezing : `unsqueeze()` -> https://pytorch.org/docs/stable/generated/torch.unsqueeze.html"
      ],
      "metadata": {
        "id": "HbTWQ0W_p1IY"
      }
    },
    {
      "cell_type": "code",
      "source": [
        "print(f\"Previous Tesnor : {y_reshaped}\")\n",
        "print(f\"Previous shape : {y_reshaped.shape}\")\n",
        "\n",
        "y_squeezed = y_reshaped.squeeze()\n",
        "\n",
        "print(f\"Squeezed Tesnor : {y_squeezed}\")\n",
        "print(f\"Squeezed shape : {y_squeezed.shape}\")"
      ],
      "metadata": {
        "colab": {
          "base_uri": "https://localhost:8080/"
        },
        "id": "S_QFHOJvo-fW",
        "outputId": "423b51a4-274c-4cc6-ea39-48769f132469"
      },
      "execution_count": 31,
      "outputs": [
        {
          "output_type": "stream",
          "name": "stdout",
          "text": [
            "Previous Tesnor : tensor([[5., 2., 3., 4., 5., 6., 7., 8., 9.]])\n",
            "Previous shape : torch.Size([1, 9])\n",
            "Squeezed Tesnor : tensor([5., 2., 3., 4., 5., 6., 7., 8., 9.])\n",
            "Squeezed shape : torch.Size([9])\n"
          ]
        }
      ]
    },
    {
      "cell_type": "code",
      "source": [
        "print(f\"Squeezed Tesnor : {y_squeezed}\")\n",
        "print(f\"Squeezed shape : {y_squeezed.shape}\")\n",
        "\n",
        "y_unsqueezed = y_squeezed.unsqueeze(0)\n",
        "\n",
        "print(f\"Unsqueezed Tesnor : {y_unsqueezed}\")\n",
        "print(f\"Unsqueezed shape : {y_unsqueezed.shape}\")"
      ],
      "metadata": {
        "id": "pFWKzbrxs7-V",
        "colab": {
          "base_uri": "https://localhost:8080/"
        },
        "outputId": "8e3db01d-8dc1-476a-b9a2-21a24ad4d25d"
      },
      "execution_count": 32,
      "outputs": [
        {
          "output_type": "stream",
          "name": "stdout",
          "text": [
            "Squeezed Tesnor : tensor([5., 2., 3., 4., 5., 6., 7., 8., 9.])\n",
            "Squeezed shape : torch.Size([9])\n",
            "Unsqueezed Tesnor : tensor([[5., 2., 3., 4., 5., 6., 7., 8., 9.]])\n",
            "Unsqueezed shape : torch.Size([1, 9])\n"
          ]
        }
      ]
    },
    {
      "cell_type": "code",
      "source": [
        "x = torch.randn(2,3,5)\n",
        "print(f\"Original Tesnor : {x}\")\n",
        "print(f\"Original Shape : {x.shape}\")\n",
        "x_permuted = torch.permute(x,(2,0,1))\n",
        "print(f\"Permuted Tesnor : {x_permuted}\")\n",
        "print(f\"Permuted Shape : {x_permuted.shape}\")"
      ],
      "metadata": {
        "id": "DEsw68VBs8Nm",
        "colab": {
          "base_uri": "https://localhost:8080/"
        },
        "outputId": "e9bc822d-a83c-4ee4-b028-44a52f81f07c"
      },
      "execution_count": 33,
      "outputs": [
        {
          "output_type": "stream",
          "name": "stdout",
          "text": [
            "Original Tesnor : tensor([[[-0.1557,  1.6261,  0.0529,  1.6046, -0.5620],\n",
            "         [ 1.1670,  2.0631, -1.3960, -0.0075, -0.8472],\n",
            "         [ 0.3045, -0.5452, -0.0963,  1.2109,  0.4811]],\n",
            "\n",
            "        [[-0.0595,  0.7402, -1.0113,  0.3686, -1.0070],\n",
            "         [ 0.9568,  0.8356,  2.1948,  0.1332,  1.6283],\n",
            "         [ 1.8992,  0.3304,  1.2352,  0.2367,  0.2727]]])\n",
            "Original Shape : torch.Size([2, 3, 5])\n",
            "Permuted Tesnor : tensor([[[-0.1557,  1.1670,  0.3045],\n",
            "         [-0.0595,  0.9568,  1.8992]],\n",
            "\n",
            "        [[ 1.6261,  2.0631, -0.5452],\n",
            "         [ 0.7402,  0.8356,  0.3304]],\n",
            "\n",
            "        [[ 0.0529, -1.3960, -0.0963],\n",
            "         [-1.0113,  2.1948,  1.2352]],\n",
            "\n",
            "        [[ 1.6046, -0.0075,  1.2109],\n",
            "         [ 0.3686,  0.1332,  0.2367]],\n",
            "\n",
            "        [[-0.5620, -0.8472,  0.4811],\n",
            "         [-1.0070,  1.6283,  0.2727]]])\n",
            "Permuted Shape : torch.Size([5, 2, 3])\n"
          ]
        }
      ]
    },
    {
      "cell_type": "markdown",
      "source": [
        "## Pytorch and Numpy"
      ],
      "metadata": {
        "id": "B09PUbRYcq-B"
      }
    },
    {
      "cell_type": "markdown",
      "source": [
        "**Pytorch and Numpy**\n",
        "Numpy interactions possible using pytorch\n",
        "\n",
        "*    Data in numpy -> Pytorch Tensor --> `torch.from_numpy(ndarray)`\n",
        "*   Pytorch Tensor -> Numpy array --> `torch.Tensor.numpy()`\n",
        "\n",
        "Note : When converting from numpy array -> torch tensor, torch reflects the array as a `float64` by default, unless specified otherwise"
      ],
      "metadata": {
        "id": "-e0EeE2Lq0fX"
      }
    },
    {
      "cell_type": "code",
      "source": [
        "import numpy as np\n",
        "import pandas as pd\n",
        "import torch"
      ],
      "metadata": {
        "id": "8Da-1y4677vb"
      },
      "execution_count": 34,
      "outputs": []
    },
    {
      "cell_type": "code",
      "source": [
        "# Numpy array => Tensor\n",
        "array = np.arange(1.0,8.0)\n",
        "tensor = torch.from_numpy(array)"
      ],
      "metadata": {
        "id": "2vVEWJkWq0XG"
      },
      "execution_count": 35,
      "outputs": []
    },
    {
      "cell_type": "code",
      "source": [
        "print(f\"Array : {array}\")\n",
        "print(f\"Type : {array.dtype}\")\n",
        "print(f\" Tesnor : {tensor}\")\n",
        "print(f\"Type : {tensor.dtype}\")"
      ],
      "metadata": {
        "id": "0IMZ7OLdq0PY",
        "colab": {
          "base_uri": "https://localhost:8080/"
        },
        "outputId": "971fbf09-d37d-464e-89a2-dd4764d61ca3"
      },
      "execution_count": 36,
      "outputs": [
        {
          "output_type": "stream",
          "name": "stdout",
          "text": [
            "Array : [1. 2. 3. 4. 5. 6. 7.]\n",
            "Type : float64\n",
            " Tesnor : tensor([1., 2., 3., 4., 5., 6., 7.], dtype=torch.float64)\n",
            "Type : torch.float64\n"
          ]
        }
      ]
    },
    {
      "cell_type": "code",
      "source": [
        "new_tensor = torch.from_numpy(array).type(torch.float32)\n",
        "print(f\" Tesnor : {new_tensor}\")\n",
        "print(f\"Type : {new_tensor.dtype}\")"
      ],
      "metadata": {
        "id": "Mji6osRHq0F2",
        "colab": {
          "base_uri": "https://localhost:8080/"
        },
        "outputId": "262c401d-133b-48e3-c863-82af7019eb64"
      },
      "execution_count": 37,
      "outputs": [
        {
          "output_type": "stream",
          "name": "stdout",
          "text": [
            " Tesnor : tensor([1., 2., 3., 4., 5., 6., 7.])\n",
            "Type : torch.float32\n"
          ]
        }
      ]
    },
    {
      "cell_type": "code",
      "source": [
        "# Tensor => Numpy array\n",
        "tensor = torch.ones(9)\n",
        "numpy_tensor = torch.Tensor.numpy(tensor)\n",
        "print(f\"Tesnor : {tensor}\")\n",
        "print(f\"Type : {tensor.dtype}\")\n",
        "print(f\"Array : {numpy_tensor}\")\n",
        "print(f\"Type : {numpy_tensor.dtype}\")"
      ],
      "metadata": {
        "id": "FA49bNFds8RJ",
        "colab": {
          "base_uri": "https://localhost:8080/"
        },
        "outputId": "8b78eff1-7402-435e-f30a-5fff91dafa4e"
      },
      "execution_count": 38,
      "outputs": [
        {
          "output_type": "stream",
          "name": "stdout",
          "text": [
            "Tesnor : tensor([1., 1., 1., 1., 1., 1., 1., 1., 1.])\n",
            "Type : torch.float32\n",
            "Array : [1. 1. 1. 1. 1. 1. 1. 1. 1.]\n",
            "Type : float32\n"
          ]
        }
      ]
    },
    {
      "cell_type": "markdown",
      "source": [
        "## Reproducbility ( trying to take out the random out of random)\n",
        "\n",
        "`start with random numbers -> tensor operations -> update random numbers to try and better represent the data -> repeat`\n",
        "\n",
        "To reduce randomness in neural networks, we use the concept of **random seed**.\n"
      ],
      "metadata": {
        "id": "4coljdYqAiXz"
      }
    },
    {
      "cell_type": "code",
      "source": [
        "import torch\n",
        "import numpy"
      ],
      "metadata": {
        "id": "HeyLcvyUcgWF"
      },
      "execution_count": 39,
      "outputs": []
    },
    {
      "cell_type": "code",
      "source": [
        "random_tensor_A = torch.rand(3,4)\n",
        "random_tensor_B = torch.rand(3,4)\n",
        "\n",
        "print(random_tensor_A)\n",
        "print(random_tensor_B)\n",
        "print(random_tensor_A == random_tensor_B)"
      ],
      "metadata": {
        "colab": {
          "base_uri": "https://localhost:8080/"
        },
        "id": "SJCaT55qcgfM",
        "outputId": "5c72bb8a-f583-47e3-ea1f-ff052a40b8a2"
      },
      "execution_count": 40,
      "outputs": [
        {
          "output_type": "stream",
          "name": "stdout",
          "text": [
            "tensor([[0.8428, 0.6361, 0.8934, 0.8766],\n",
            "        [0.5024, 0.7602, 0.7362, 0.2586],\n",
            "        [0.2924, 0.3444, 0.3856, 0.4952]])\n",
            "tensor([[0.7755, 0.7447, 0.7318, 0.4161],\n",
            "        [0.8641, 0.0188, 0.3331, 0.5454],\n",
            "        [0.0358, 0.6248, 0.5172, 0.1900]])\n",
            "tensor([[False, False, False, False],\n",
            "        [False, False, False, False],\n",
            "        [False, False, False, False]])\n"
          ]
        }
      ]
    },
    {
      "cell_type": "code",
      "source": [
        "#Making reproducible tensors\n",
        "\n",
        "RANDOM_SEED = 42\n",
        "torch.manual_seed(RANDOM_SEED)\n",
        "\n",
        "random_tensor_C = torch.rand(3,4)\n",
        "random_tensor_D = torch.rand(3,4)\n",
        "\n",
        "print(random_tensor_C)\n",
        "print(random_tensor_D)\n",
        "print(random_tensor_C == random_tensor_D)"
      ],
      "metadata": {
        "colab": {
          "base_uri": "https://localhost:8080/"
        },
        "id": "OYDRg54vcjf2",
        "outputId": "8bc3f080-a1a2-4b6e-dbd5-d12db64bfd47"
      },
      "execution_count": 41,
      "outputs": [
        {
          "output_type": "stream",
          "name": "stdout",
          "text": [
            "tensor([[0.8823, 0.9150, 0.3829, 0.9593],\n",
            "        [0.3904, 0.6009, 0.2566, 0.7936],\n",
            "        [0.9408, 0.1332, 0.9346, 0.5936]])\n",
            "tensor([[0.8694, 0.5677, 0.7411, 0.4294],\n",
            "        [0.8854, 0.5739, 0.2666, 0.6274],\n",
            "        [0.2696, 0.4414, 0.2969, 0.8317]])\n",
            "tensor([[False, False, False, False],\n",
            "        [False, False, False, False],\n",
            "        [False, False, False, False]])\n"
          ]
        }
      ]
    },
    {
      "cell_type": "code",
      "source": [
        "#Still not the desired result as it requires seed to be set after each method as it has subsequent methods\n",
        "\n",
        "RANDOM_SEED = 42\n",
        "\n",
        "torch.manual_seed(RANDOM_SEED)\n",
        "random_tensor_E = torch.rand(3,4)\n",
        "\n",
        "torch.manual_seed(RANDOM_SEED)\n",
        "random_tensor_F = torch.rand(3,4)\n",
        "\n",
        "print(random_tensor_E)\n",
        "print(random_tensor_F)\n",
        "print(random_tensor_E == random_tensor_F)"
      ],
      "metadata": {
        "colab": {
          "base_uri": "https://localhost:8080/"
        },
        "id": "_XOcJ0JqcjkQ",
        "outputId": "667116b6-8839-4bfd-9179-b8680e7069ed"
      },
      "execution_count": 42,
      "outputs": [
        {
          "output_type": "stream",
          "name": "stdout",
          "text": [
            "tensor([[0.8823, 0.9150, 0.3829, 0.9593],\n",
            "        [0.3904, 0.6009, 0.2566, 0.7936],\n",
            "        [0.9408, 0.1332, 0.9346, 0.5936]])\n",
            "tensor([[0.8823, 0.9150, 0.3829, 0.9593],\n",
            "        [0.3904, 0.6009, 0.2566, 0.7936],\n",
            "        [0.9408, 0.1332, 0.9346, 0.5936]])\n",
            "tensor([[True, True, True, True],\n",
            "        [True, True, True, True],\n",
            "        [True, True, True, True]])\n"
          ]
        }
      ]
    },
    {
      "cell_type": "markdown",
      "source": [
        "For more information about reproducibility -> https://pytorch.org/docs/stable/notes/randomness.html"
      ],
      "metadata": {
        "id": "51uYumYOcjnE"
      }
    },
    {
      "cell_type": "markdown",
      "source": [
        "## Running Tensors and PyTorch objects on the GPUs (for faster computations)"
      ],
      "metadata": {
        "id": "AxkpzGwgcjpp"
      }
    },
    {
      "cell_type": "markdown",
      "source": [
        "### 1. Getting a GPU\n",
        "\n",
        "Methods :\n",
        "1. Easiest - Google Colab\n",
        "2. Own GPU - requires set up and investment . (can be selected -> https://timdettmers.com/2023/01/30/which-gpu-for-deep-learning/)\n",
        "3. Cloud computing - GCP,AWS,Azure etc.\n",
        "\n",
        "For 2 -> https://pytorch.org/get-started/cloud-partners/\n",
        "\n",
        "For 3 -> https://pytorch.org/get-started/cloud-partners/\n"
      ],
      "metadata": {
        "id": "2DiWjm9be38b"
      }
    },
    {
      "cell_type": "code",
      "source": [
        "!nvidia-smi"
      ],
      "metadata": {
        "colab": {
          "base_uri": "https://localhost:8080/"
        },
        "id": "I5njdFuRfvwV",
        "outputId": "f45341d9-261e-4e4f-b31e-2b970440ec37"
      },
      "execution_count": 43,
      "outputs": [
        {
          "output_type": "stream",
          "name": "stdout",
          "text": [
            "Sun May 28 13:17:14 2023       \n",
            "+-----------------------------------------------------------------------------+\n",
            "| NVIDIA-SMI 525.85.12    Driver Version: 525.85.12    CUDA Version: 12.0     |\n",
            "|-------------------------------+----------------------+----------------------+\n",
            "| GPU  Name        Persistence-M| Bus-Id        Disp.A | Volatile Uncorr. ECC |\n",
            "| Fan  Temp  Perf  Pwr:Usage/Cap|         Memory-Usage | GPU-Util  Compute M. |\n",
            "|                               |                      |               MIG M. |\n",
            "|===============================+======================+======================|\n",
            "|   0  Tesla T4            Off  | 00000000:00:04.0 Off |                    0 |\n",
            "| N/A   51C    P8    10W /  70W |      0MiB / 15360MiB |      0%      Default |\n",
            "|                               |                      |                  N/A |\n",
            "+-------------------------------+----------------------+----------------------+\n",
            "                                                                               \n",
            "+-----------------------------------------------------------------------------+\n",
            "| Processes:                                                                  |\n",
            "|  GPU   GI   CI        PID   Type   Process name                  GPU Memory |\n",
            "|        ID   ID                                                   Usage      |\n",
            "|=============================================================================|\n",
            "|  No running processes found                                                 |\n",
            "+-----------------------------------------------------------------------------+\n"
          ]
        }
      ]
    },
    {
      "cell_type": "markdown",
      "source": [
        "### 2. Check for GPU access \n",
        "\n",
        "-> https://pytorch.org/docs/stable/notes/cuda.html"
      ],
      "metadata": {
        "id": "oWdQXLWCf9LS"
      }
    },
    {
      "cell_type": "code",
      "source": [
        "# Check access using `is_available()`\n",
        "import torch\n",
        "torch.cuda.is_available()"
      ],
      "metadata": {
        "colab": {
          "base_uri": "https://localhost:8080/"
        },
        "id": "lOc7o-XXgLRx",
        "outputId": "33ffc8be-8400-44e6-b72b-4a86ceec91f4"
      },
      "execution_count": 44,
      "outputs": [
        {
          "output_type": "execute_result",
          "data": {
            "text/plain": [
              "True"
            ]
          },
          "metadata": {},
          "execution_count": 44
        }
      ]
    },
    {
      "cell_type": "code",
      "source": [
        "# Setting up device agnostic code\n",
        "\n",
        "device = \"cuda\" if torch.cuda.is_available() else \"cpu\"\n",
        "device"
      ],
      "metadata": {
        "colab": {
          "base_uri": "https://localhost:8080/",
          "height": 35
        },
        "id": "njltdqYogQp4",
        "outputId": "5b4285b3-a76e-4fa7-87f9-8eec5015cc63"
      },
      "execution_count": 45,
      "outputs": [
        {
          "output_type": "execute_result",
          "data": {
            "text/plain": [
              "'cuda'"
            ],
            "application/vnd.google.colaboratory.intrinsic+json": {
              "type": "string"
            }
          },
          "metadata": {},
          "execution_count": 45
        }
      ]
    },
    {
      "cell_type": "code",
      "source": [
        "# Counting no of devices\n",
        "torch.cuda.device_count()"
      ],
      "metadata": {
        "colab": {
          "base_uri": "https://localhost:8080/"
        },
        "id": "ktV_0KNNglqZ",
        "outputId": "4ac751c1-5cce-4655-eec5-cf6cb799362f"
      },
      "execution_count": 46,
      "outputs": [
        {
          "output_type": "execute_result",
          "data": {
            "text/plain": [
              "1"
            ]
          },
          "metadata": {},
          "execution_count": 46
        }
      ]
    },
    {
      "cell_type": "markdown",
      "source": [
        "## 3. Putting tensors(or models) on the GPU"
      ],
      "metadata": {
        "id": "oIUXsby2gtoZ"
      }
    },
    {
      "cell_type": "code",
      "source": [
        "# Creating a tensor\n",
        "tensor  = torch.Tensor([1,2,3])\n",
        "\n",
        "#Checking tensor and device property\n",
        "print(tensor,tensor.device)"
      ],
      "metadata": {
        "colab": {
          "base_uri": "https://localhost:8080/"
        },
        "id": "hU664gTKg44D",
        "outputId": "44c0f6a7-61b1-450f-d431-7110935df554"
      },
      "execution_count": 47,
      "outputs": [
        {
          "output_type": "stream",
          "name": "stdout",
          "text": [
            "tensor([1., 2., 3.]) cpu\n"
          ]
        }
      ]
    },
    {
      "cell_type": "code",
      "source": [
        "# Moving tensor to gpu\n",
        "tensor_on_gpu = tensor.to(device)\n",
        "\n",
        "#Checking tensor and device property\n",
        "print(tensor_on_gpu,tensor_on_gpu.device)"
      ],
      "metadata": {
        "colab": {
          "base_uri": "https://localhost:8080/"
        },
        "id": "PImw3ufxg4vO",
        "outputId": "f7bd0487-4711-40fb-eb1f-fb071222355f"
      },
      "execution_count": 48,
      "outputs": [
        {
          "output_type": "stream",
          "name": "stdout",
          "text": [
            "tensor([1., 2., 3.], device='cuda:0') cuda:0\n"
          ]
        }
      ]
    },
    {
      "cell_type": "markdown",
      "source": [
        "## 4. Moving tensors back to CPU"
      ],
      "metadata": {
        "id": "nqVs56l7g4ru"
      }
    },
    {
      "cell_type": "code",
      "source": [
        "# Not having the tensors on the right device, can result in errors\n",
        "\n",
        "#tensor_on_gpu.numpy()\n",
        "# above line gives an error as numpy() needs tensors on the cpu"
      ],
      "metadata": {
        "id": "zI8KoVn4hf_g"
      },
      "execution_count": 49,
      "outputs": []
    },
    {
      "cell_type": "code",
      "source": [
        "# back to cpu using `.cpu()`\n",
        "tensor_back_on_cpu = tensor_on_gpu.cpu().numpy()\n",
        "print(tensor_back_on_cpu)"
      ],
      "metadata": {
        "colab": {
          "base_uri": "https://localhost:8080/"
        },
        "id": "02WMoW4M692w",
        "outputId": "86849f06-4294-4b19-e645-6980632a0301"
      },
      "execution_count": 50,
      "outputs": [
        {
          "output_type": "stream",
          "name": "stdout",
          "text": [
            "[1. 2. 3.]\n"
          ]
        }
      ]
    },
    {
      "cell_type": "code",
      "source": [],
      "metadata": {
        "id": "MeIycR427acR"
      },
      "execution_count": 50,
      "outputs": []
    }
  ]
}