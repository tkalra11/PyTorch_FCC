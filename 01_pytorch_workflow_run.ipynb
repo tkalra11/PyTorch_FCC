{
  "nbformat": 4,
  "nbformat_minor": 0,
  "metadata": {
    "colab": {
      "provenance": [],
      "gpuType": "T4",
      "authorship_tag": "ABX9TyOKiurkvagiFp5mDiYrX1xR",
      "include_colab_link": true
    },
    "kernelspec": {
      "name": "python3",
      "display_name": "Python 3"
    },
    "language_info": {
      "name": "python"
    },
    "accelerator": "GPU"
  },
  "cells": [
    {
      "cell_type": "markdown",
      "metadata": {
        "id": "view-in-github",
        "colab_type": "text"
      },
      "source": [
        "<a href=\"https://colab.research.google.com/github/tkalra11/PyTorch_FCC/blob/master/01_pytorch_workflow_run.ipynb\" target=\"_parent\"><img src=\"https://colab.research.google.com/assets/colab-badge.svg\" alt=\"Open In Colab\"/></a>"
      ]
    },
    {
      "cell_type": "markdown",
      "source": [
        "# PyTorch Workflow"
      ],
      "metadata": {
        "id": "Od6xU8VV-g2a"
      }
    },
    {
      "cell_type": "markdown",
      "source": [
        "Steps :\n",
        "\n",
        "1. Data prepration and loading\n",
        "2. Building the model\n",
        "3. Fitting the model\n",
        "4. Making the predictions and evaluating the model\n",
        "5. Saving and loading the model\n",
        "6. Putting it all together"
      ],
      "metadata": {
        "id": "bl1L2RGKfPK3"
      }
    },
    {
      "cell_type": "code",
      "source": [
        "import torch\n",
        "from torch import nn #torch.nn has PyTorch's building blocks for neural networks\n",
        "import matplotlib.pyplot as plt"
      ],
      "metadata": {
        "id": "Cc9VnDRKhI0G"
      },
      "execution_count": 1,
      "outputs": []
    },
    {
      "cell_type": "code",
      "source": [
        "torch.__version__"
      ],
      "metadata": {
        "colab": {
          "base_uri": "https://localhost:8080/",
          "height": 35
        },
        "id": "Q2vZ6PFsijg4",
        "outputId": "891a9628-40b5-4498-cd43-bf6766683d8d"
      },
      "execution_count": 2,
      "outputs": [
        {
          "output_type": "execute_result",
          "data": {
            "text/plain": [
              "'2.0.1+cu118'"
            ],
            "application/vnd.google.colaboratory.intrinsic+json": {
              "type": "string"
            }
          },
          "metadata": {},
          "execution_count": 2
        }
      ]
    },
    {
      "cell_type": "markdown",
      "source": [
        "## 1. Data prepration and loading\n",
        "\n",
        "Types:\n",
        "* Excel spreadsheet\n",
        "* Images\n",
        "* Videos\n",
        "* Audios\n",
        "* DNA\n",
        "* Text\n",
        "\n",
        "Basic parts of machine learning: \n",
        "\n",
        "1. Get data into a proper numerical represntation.\n",
        "2. Build a model to learn the patterns in the numerical represntations.\n",
        "\n"
      ],
      "metadata": {
        "id": "Vc8KX0lgimhz"
      }
    },
    {
      "cell_type": "markdown",
      "source": [
        "Create some *known* data using the Linear Regression formula.\n",
        "\n",
        "Formula :\n",
        "The formula for a simple linear regression is:\n",
        "\n",
        "y = $\\beta$0  +  $\\beta$1 X + $\\epsilon$\n",
        "\n",
        "* y is the predicted value of the dependent variable (y) for any given value of the independent variable (x).\n",
        "* B0 is the intercept, the predicted value of y when the x is 0.\n",
        "* B1 is the regression coefficient – how much we expect y to change as x increases.\n",
        "* x is the independent variable ( the variable we expect is influencing y).\n",
        "* e is the error of the estimate, or how much variation there is in our estimate of the regression coefficient.\n",
        "\n",
        "We can use linear regression formula to make a straight line using *known* **parameters** (something that a machine learns)"
      ],
      "metadata": {
        "id": "x3FZ0Dr2z2J2"
      }
    },
    {
      "cell_type": "code",
      "source": [
        "# Creating the known parameters\n",
        "\n",
        "weight = 0.7\n",
        "bias = 0.3\n",
        "\n",
        "# Create some data\n",
        "\n",
        "start = 0\n",
        "end = 1\n",
        "step = 0.02\n",
        "\n",
        "X = torch.arange(start,end,step).unsqueeze(dim=1)\n",
        "\n",
        "y = weight * X +bias"
      ],
      "metadata": {
        "id": "eV1EsCv8jnUj"
      },
      "execution_count": 3,
      "outputs": []
    },
    {
      "cell_type": "code",
      "source": [
        "X[:10],y[:10]"
      ],
      "metadata": {
        "colab": {
          "base_uri": "https://localhost:8080/"
        },
        "id": "5jrcmndD2Xsi",
        "outputId": "bc1686da-cd39-4d63-aed7-1aac50b8fa98"
      },
      "execution_count": 4,
      "outputs": [
        {
          "output_type": "execute_result",
          "data": {
            "text/plain": [
              "(tensor([[0.0000],\n",
              "         [0.0200],\n",
              "         [0.0400],\n",
              "         [0.0600],\n",
              "         [0.0800],\n",
              "         [0.1000],\n",
              "         [0.1200],\n",
              "         [0.1400],\n",
              "         [0.1600],\n",
              "         [0.1800]]),\n",
              " tensor([[0.3000],\n",
              "         [0.3140],\n",
              "         [0.3280],\n",
              "         [0.3420],\n",
              "         [0.3560],\n",
              "         [0.3700],\n",
              "         [0.3840],\n",
              "         [0.3980],\n",
              "         [0.4120],\n",
              "         [0.4260]]))"
            ]
          },
          "metadata": {},
          "execution_count": 4
        }
      ]
    },
    {
      "cell_type": "code",
      "source": [
        "len(X),len(y)"
      ],
      "metadata": {
        "colab": {
          "base_uri": "https://localhost:8080/"
        },
        "id": "kW13f9tD2aXI",
        "outputId": "e8a621c5-8f4b-43dd-c756-5df31e663a63"
      },
      "execution_count": 5,
      "outputs": [
        {
          "output_type": "execute_result",
          "data": {
            "text/plain": [
              "(50, 50)"
            ]
          },
          "metadata": {},
          "execution_count": 5
        }
      ]
    },
    {
      "cell_type": "markdown",
      "source": [
        "### Splitting the dataset into \n",
        "1. Train data  ~ 60-80 %\n",
        "2. Test data  ~ 10-20 %\n",
        "3. Validation data  ~ 10-20 %\n"
      ],
      "metadata": {
        "id": "-5ojIxs52lOa"
      }
    },
    {
      "cell_type": "code",
      "source": [
        "# Creating a train,test split\n",
        "\n",
        "train_split = int(0.8 * len(X))\n",
        "\n",
        "X_train , y_train = X[:train_split] , y[:train_split]\n",
        "\n",
        "X_test , y_test = X[train_split:] , y[train_split:]\n",
        "\n",
        "len(X_train) , len(y_train) ,len(X_test) , len(y_test)"
      ],
      "metadata": {
        "colab": {
          "base_uri": "https://localhost:8080/"
        },
        "id": "y_lzyUF75LRh",
        "outputId": "25503dfd-ab27-4729-88b9-796c6032f9b3"
      },
      "execution_count": 6,
      "outputs": [
        {
          "output_type": "execute_result",
          "data": {
            "text/plain": [
              "(40, 40, 10, 10)"
            ]
          },
          "metadata": {},
          "execution_count": 6
        }
      ]
    },
    {
      "cell_type": "code",
      "source": [
        "def plot_predictions(train_data = X_train,\n",
        "                     train_labels = y_train,\n",
        "                     test_data = X_test,\n",
        "                     test_labels = y_test,\n",
        "                     predictions = None) :\n",
        "                     \"\"\"\n",
        "                     Plots training and test data and compares the predictions.\n",
        "                     \"\"\"\n",
        "\n",
        "                     plt.figure(figsize = (10,7))\n",
        "                     \n",
        "                     # Plotting the training data \n",
        "                     plt.scatter(train_data , train_labels , c='b', s=4 , label =\"Training data\")\n",
        "\n",
        "                     # Plotting the test data\n",
        "                     plt.scatter(test_data , test_labels , c='g' , s=4 , label =\"Testing data\")\n",
        "\n",
        "                     # If there are predictions, plot the predictions\n",
        "                     if predictions is not None:\n",
        "\n",
        "                        #Plotting the predictions\n",
        "                        plt.scatter(test_data , predictions , c='r' , s=4 , label = \"Predictions\")\n",
        "                     plt.legend(prop = {\"size\" : 14 });"
      ],
      "metadata": {
        "id": "OgPvv4OZ6sgi"
      },
      "execution_count": 7,
      "outputs": []
    },
    {
      "cell_type": "code",
      "source": [
        "plot_predictions();"
      ],
      "metadata": {
        "colab": {
          "base_uri": "https://localhost:8080/",
          "height": 599
        },
        "id": "gzZOavGTlriE",
        "outputId": "204c9b4b-5d23-4590-b6e2-f28e8c8549dc"
      },
      "execution_count": 8,
      "outputs": [
        {
          "output_type": "display_data",
          "data": {
            "text/plain": [
              "<Figure size 1000x700 with 1 Axes>"
            ],
            "image/png": "[encoded data removed]"
          },
          "metadata": {}
        }
      ]
    },
    {
      "cell_type": "markdown",
      "source": [
        "## 2. Build the model\n",
        "\n",
        "First model in PyTorch.\n",
        "\n",
        "Model functioning: \n",
        "\n",
        "* Start with random values of parameters (weights and bias)\n",
        "* Use the training data to adjust the values of the parameters to better represent our data, and get closer to the ideal values\n",
        "\n",
        "This happens through 2 main algorithms: \n",
        "\n",
        "1. Gradient descent -> https://www.youtube.com/watch?v=IHZwWFHWa-w\n",
        "2. Backpropogation -> https://www.youtube.com/watch?v=tIeHLnjs5U8"
      ],
      "metadata": {
        "id": "Z4MjIRFml7Zm"
      }
    },
    {
      "cell_type": "code",
      "source": [
        "# Create a linear regression model class\n",
        "\n",
        "class LinearRegressionModel(nn.Module):\n",
        "    # Almost everything in PyTorch inherits a from nn.Module, Contains the building blocks for neural networks\n",
        "    def __init__(self):\n",
        "        super().__init__()\n",
        "\n",
        "        #Initialize the model parameters\n",
        "        self.weights = nn.Parameter(torch.randn(1,\n",
        "                                                                        requires_grad = True,\n",
        "                                                                        dtype = torch.float))\n",
        "        self.bias = nn.Parameter(torch.randn(1,\n",
        "                                                                        requires_grad = True,\n",
        "                                                                        dtype = torch.float))\n",
        "        \n",
        "    # Forward method to define the computations in the model\n",
        "    def forward(self , x : torch.Tensor) -> torch.Tensor :  # x is the input data Tensor\n",
        "        return self.weights * x + self.bias"
      ],
      "metadata": {
        "id": "1--gRMKFmDbH"
      },
      "execution_count": 9,
      "outputs": []
    },
    {
      "cell_type": "markdown",
      "source": [
        "### PyTorch Model building essentials\n",
        "\n",
        "* torch.nn - Basic building blocks for neural networks/computational graphs\n",
        "* torch.Parameter - Parameters for model to try and learn, maybe set automatically by some layer.\n",
        "* torch.nn.Module - Base class for nerual networks. If subclassing it, should overwrite forward()\n",
        "* torch.optim - where optimizers in PyTorch live and help in gradient descent\n",
        "* def forward() - All nn.Module subclasses require overwriting, defines what happens in forward computation\n",
        "\n",
        "Cheat sheet -> https://pytorch.org/tutorials/beginner/ptcheat.html"
      ],
      "metadata": {
        "id": "sA9Y1pRsmDTb"
      }
    },
    {
      "cell_type": "markdown",
      "source": [
        "### See whats inside the model\n",
        "\n",
        "We can see our model parameters using `.parameters()`"
      ],
      "metadata": {
        "id": "2GXg4W_1mDQ4"
      }
    },
    {
      "cell_type": "code",
      "source": [
        "# Creating the random seed\n",
        "torch.manual_seed(42)\n",
        "\n",
        "# Instance of the model\n",
        "\n",
        "model_0 = LinearRegressionModel()\n",
        "\n",
        "model_0.state_dict()"
      ],
      "metadata": {
        "colab": {
          "base_uri": "https://localhost:8080/"
        },
        "id": "hZxvdeJHmDN5",
        "outputId": "d2e87517-d6c4-4ba6-abf9-5394d70b36c6"
      },
      "execution_count": 10,
      "outputs": [
        {
          "output_type": "execute_result",
          "data": {
            "text/plain": [
              "OrderedDict([('weights', tensor([0.3367])), ('bias', tensor([0.1288]))])"
            ]
          },
          "metadata": {},
          "execution_count": 10
        }
      ]
    },
    {
      "cell_type": "markdown",
      "source": [
        "### Making predictions using `torch.inference_mode()`"
      ],
      "metadata": {
        "id": "Nel27EzemDKK"
      }
    },
    {
      "cell_type": "code",
      "source": [
        "with torch.inference_mode():\n",
        "    y_preds = model_0(X_test)\n",
        "\n",
        "y_preds"
      ],
      "metadata": {
        "colab": {
          "base_uri": "https://localhost:8080/"
        },
        "id": "9eRP90NrmDCM",
        "outputId": "47a49a0c-4082-404f-db01-ffe8306543cf"
      },
      "execution_count": 11,
      "outputs": [
        {
          "output_type": "execute_result",
          "data": {
            "text/plain": [
              "tensor([[0.3982],\n",
              "        [0.4049],\n",
              "        [0.4116],\n",
              "        [0.4184],\n",
              "        [0.4251],\n",
              "        [0.4318],\n",
              "        [0.4386],\n",
              "        [0.4453],\n",
              "        [0.4520],\n",
              "        [0.4588]])"
            ]
          },
          "metadata": {},
          "execution_count": 11
        }
      ]
    },
    {
      "cell_type": "code",
      "source": [
        "plot_predictions(predictions = y_preds)"
      ],
      "metadata": {
        "colab": {
          "base_uri": "https://localhost:8080/",
          "height": 599
        },
        "id": "N3mwUifdmC4d",
        "outputId": "29d6aa4f-ee6c-4782-d37a-2d8a9ee90d59"
      },
      "execution_count": 12,
      "outputs": [
        {
          "output_type": "display_data",
          "data": {
            "text/plain": [
              "<Figure size 1000x700 with 1 Axes>"
            ],
            "image/png": "[encoded data removed]"
          },
          "metadata": {}
        }
      ]
    },
    {
      "cell_type": "markdown",
      "source": [
        "## 3. Training the model - Fitting the model & Testing and Evaluation\n",
        "\n",
        "While training the model we move from the *unknown* parameters to the ***known***parameters, i.e. from poor representation of the data to a better representation of the data.\n",
        "\n",
        "One way to measure how the model is predicting is to use a loss function.\n",
        "\n",
        "* Note: Loss function may also be called a cost function or a criterion in other areas of appliacations.\n",
        "\n",
        "* **Loss Function:**  A function to measure how wrong your model's predictions are compared to the ideal outputs.\n",
        "* **Optimizer:** Adjusts model parameters based on the loss of a model, in order to improve the loss.\n",
        "\n",
        "For PyTorch specifically,we need: \n",
        "1. Training Loop\n",
        "2. Testing Loop"
      ],
      "metadata": {
        "id": "u1n0sELrZkea"
      }
    },
    {
      "cell_type": "code",
      "source": [
        "# Setup a loss function\n",
        "\n",
        "loss_fn = torch.nn.L1Loss()"
      ],
      "metadata": {
        "id": "sWOZf6jvYCF8"
      },
      "execution_count": 13,
      "outputs": []
    },
    {
      "cell_type": "code",
      "source": [
        "# Setup an optimizer\n",
        "\n",
        "optimizer = torch.optim.SGD(params = model_0.parameters() , lr = 0.01)"
      ],
      "metadata": {
        "id": "n9Dcif65ZkNd"
      },
      "execution_count": 14,
      "outputs": []
    },
    {
      "cell_type": "markdown",
      "source": [
        "### Building a training (and testing) loop\n",
        "\n",
        "Requirements:\n",
        "0. Loop through the data\n",
        "1. Forward pass -> data through `forward()` \n",
        "2. Calculate the loss \n",
        "3. Optimize zero grad\n",
        "4. Loss backward\n",
        "5. Optimizer step"
      ],
      "metadata": {
        "id": "aK7JN27RZkKP"
      }
    },
    {
      "cell_type": "code",
      "source": [
        "# An epoch is one loop through the data\n",
        "epochs = 200\n",
        "\n",
        "# Track experiments\n",
        "epoch_count = []\n",
        "loss_values = []\n",
        "test_loss_values = []\n",
        "\n",
        "# 0.  Loop through the data\n",
        "for epoch in range(epochs) :\n",
        "    # Set the model to training mode\n",
        "    model_0.train() # sets all parameters that require gradients to require gradients\n",
        "    \n",
        "    #1. Forward pass\n",
        "    y_pred = model_0(X_train)\n",
        "\n",
        "    #2. Calculate the loss\n",
        "    loss = loss_fn(y_pred,y_train)\n",
        "\n",
        "    #3. Optimizer zero grad\n",
        "    optimizer.zero_grad()\n",
        "\n",
        "    #4. Loss backward\n",
        "    loss.backward()\n",
        "\n",
        "    #5. Step the optimizer\n",
        "    optimizer.step()\n",
        "\n",
        "    model_0.eval() #turns off settings not needed for evaluation/testing (dropout / batch norm /etc.)\n",
        "\n",
        "    with torch.inference_mode(): # turns off gradient tracking\n",
        "        #1. Forward pass\n",
        "        test_pred = model_0(X_test)\n",
        "\n",
        "        #2. Calculate the loss\n",
        "        test_loss = loss_fn(test_pred,y_test)\n",
        "\n",
        "    if ( epoch % 5 == 0):\n",
        "        \n",
        "        # Storing experiment values\n",
        "        epoch_count.append(epoch)\n",
        "        loss_values.append(loss.detach())\n",
        "        test_loss_values.append(test_loss)\n",
        "\n",
        "        print(f\"Epoch : {epoch} | Loss : {loss} | Test Loss : {test_loss}\")"
      ],
      "metadata": {
        "colab": {
          "base_uri": "https://localhost:8080/"
        },
        "id": "QMrx1V71ZkGB",
        "outputId": "7671af87-9a60-4f45-feff-74cff523418e"
      },
      "execution_count": 15,
      "outputs": [
        {
          "output_type": "stream",
          "name": "stdout",
          "text": [
            "Epoch : 0 | Loss : 0.31288138031959534 | Test Loss : 0.48106518387794495\n",
            "Epoch : 5 | Loss : 0.2552763521671295 | Test Loss : 0.41371020674705505\n",
            "Epoch : 10 | Loss : 0.1976713240146637 | Test Loss : 0.3463551998138428\n",
            "Epoch : 15 | Loss : 0.14006635546684265 | Test Loss : 0.27900025248527527\n",
            "Epoch : 20 | Loss : 0.08908725529909134 | Test Loss : 0.21729660034179688\n",
            "Epoch : 25 | Loss : 0.06395438313484192 | Test Loss : 0.17353470623493195\n",
            "Epoch : 30 | Loss : 0.053148526698350906 | Test Loss : 0.14464017748832703\n",
            "Epoch : 35 | Loss : 0.04819351062178612 | Test Loss : 0.12584610283374786\n",
            "Epoch : 40 | Loss : 0.04543796554207802 | Test Loss : 0.11360953003168106\n",
            "Epoch : 45 | Loss : 0.04343796148896217 | Test Loss : 0.10470950603485107\n",
            "Epoch : 50 | Loss : 0.04167863354086876 | Test Loss : 0.09919948130846024\n",
            "Epoch : 55 | Loss : 0.039933640509843826 | Test Loss : 0.09368947893381119\n",
            "Epoch : 60 | Loss : 0.03818932920694351 | Test Loss : 0.08886633068323135\n",
            "Epoch : 65 | Loss : 0.03647511452436447 | Test Loss : 0.08473004400730133\n",
            "Epoch : 70 | Loss : 0.03476089984178543 | Test Loss : 0.0805937647819519\n",
            "Epoch : 75 | Loss : 0.033043231815099716 | Test Loss : 0.07645749300718307\n",
            "Epoch : 80 | Loss : 0.03132382780313492 | Test Loss : 0.07232122868299484\n",
            "Epoch : 85 | Loss : 0.02960442565381527 | Test Loss : 0.06818496435880661\n",
            "Epoch : 90 | Loss : 0.02788739837706089 | Test Loss : 0.06473556160926819\n",
            "Epoch : 95 | Loss : 0.026173178106546402 | Test Loss : 0.06059930846095085\n",
            "Epoch : 100 | Loss : 0.024458957836031914 | Test Loss : 0.05646304413676262\n",
            "Epoch : 105 | Loss : 0.022739607840776443 | Test Loss : 0.052326757460832596\n",
            "Epoch : 110 | Loss : 0.021020207554101944 | Test Loss : 0.04819049686193466\n",
            "Epoch : 115 | Loss : 0.019300809130072594 | Test Loss : 0.04405422881245613\n",
            "Epoch : 120 | Loss : 0.01758546568453312 | Test Loss : 0.04060482233762741\n",
            "Epoch : 125 | Loss : 0.01587124727666378 | Test Loss : 0.036468543112277985\n",
            "Epoch : 130 | Loss : 0.014155393466353416 | Test Loss : 0.03233227878808975\n",
            "Epoch : 135 | Loss : 0.012435992248356342 | Test Loss : 0.028196018189191818\n",
            "Epoch : 140 | Loss : 0.010716589167714119 | Test Loss : 0.024059748277068138\n",
            "Epoch : 145 | Loss : 0.008997755125164986 | Test Loss : 0.020610356703400612\n",
            "Epoch : 150 | Loss : 0.0072835334576666355 | Test Loss : 0.016474086791276932\n",
            "Epoch : 155 | Loss : 0.005569315515458584 | Test Loss : 0.012337815947830677\n",
            "Epoch : 160 | Loss : 0.0038517764769494534 | Test Loss : 0.008201557211577892\n",
            "Epoch : 165 | Loss : 0.0021323717664927244 | Test Loss : 0.004065275192260742\n",
            "Epoch : 170 | Loss : 0.008932482451200485 | Test Loss : 0.005023092031478882\n",
            "Epoch : 175 | Loss : 0.0025885067880153656 | Test Loss : 0.008447891101241112\n",
            "Epoch : 180 | Loss : 0.008932482451200485 | Test Loss : 0.005023092031478882\n",
            "Epoch : 185 | Loss : 0.0025885067880153656 | Test Loss : 0.008447891101241112\n",
            "Epoch : 190 | Loss : 0.008932482451200485 | Test Loss : 0.005023092031478882\n",
            "Epoch : 195 | Loss : 0.0025885067880153656 | Test Loss : 0.008447891101241112\n"
          ]
        }
      ]
    },
    {
      "cell_type": "code",
      "source": [
        "# Plot the losses\n",
        "plt.plot(epoch_count , loss_values ,label = \"Training Loss\")\n",
        "plt.plot(epoch_count , test_loss_values , label =\"Test Loss\")\n",
        "plt.title(\"Training and Testing Loss\")\n",
        "plt.xlabel(\"Epoch\")\n",
        "plt.ylabel(\"Loss\")\n",
        "plt.legend();"
      ],
      "metadata": {
        "colab": {
          "base_uri": "https://localhost:8080/",
          "height": 472
        },
        "id": "f5HdgZJgUMMH",
        "outputId": "e8b5997b-896f-4b83-fd5a-3e4ad4f38b43"
      },
      "execution_count": 16,
      "outputs": [
        {
          "output_type": "display_data",
          "data": {
            "text/plain": [
              "<Figure size 640x480 with 1 Axes>"
            ],
            "image/png": "[encoded data removed]"
          },
          "metadata": {}
        }
      ]
    },
    {
      "cell_type": "code",
      "source": [
        "model_0.state_dict()"
      ],
      "metadata": {
        "colab": {
          "base_uri": "https://localhost:8080/"
        },
        "id": "6I8iqGjuS190",
        "outputId": "35bfcf90-ed62-4467-df67-820aef8da664"
      },
      "execution_count": 17,
      "outputs": [
        {
          "output_type": "execute_result",
          "data": {
            "text/plain": [
              "OrderedDict([('weights', tensor([0.6990])), ('bias', tensor([0.3093]))])"
            ]
          },
          "metadata": {},
          "execution_count": 17
        }
      ]
    },
    {
      "cell_type": "code",
      "source": [
        "with torch.inference_mode(): # turns off gradient tracking\n",
        "    y_preds_new = model_0(X_test)"
      ],
      "metadata": {
        "id": "cr6dF7M3Zj1K"
      },
      "execution_count": 18,
      "outputs": []
    },
    {
      "cell_type": "code",
      "source": [
        "plot_predictions(predictions = y_preds)"
      ],
      "metadata": {
        "colab": {
          "base_uri": "https://localhost:8080/",
          "height": 599
        },
        "id": "XOnOqnKc_rrH",
        "outputId": "17c518fb-93a0-4298-e62c-b031279969b5"
      },
      "execution_count": 19,
      "outputs": [
        {
          "output_type": "display_data",
          "data": {
            "text/plain": [
              "<Figure size 1000x700 with 1 Axes>"
            ],
            "image/png": "[encoded data removed]"
          },
          "metadata": {}
        }
      ]
    },
    {
      "cell_type": "code",
      "source": [
        "plot_predictions(predictions = y_preds_new)"
      ],
      "metadata": {
        "colab": {
          "base_uri": "https://localhost:8080/",
          "height": 599
        },
        "id": "v6iVjGhq_xd-",
        "outputId": "96f902cc-636c-4d24-f36d-2356abbafd2e"
      },
      "execution_count": 20,
      "outputs": [
        {
          "output_type": "display_data",
          "data": {
            "text/plain": [
              "<Figure size 1000x700 with 1 Axes>"
            ],
            "image/png": "[encoded data removed]"
          },
          "metadata": {}
        }
      ]
    },
    {
      "cell_type": "markdown",
      "source": [
        "## 5. Saving and loading the model\n",
        "\n",
        "3 main methods for saving and loading the models:\n",
        "\n",
        "1. `torch.save()` - PyTorch object in python's pickle object\n",
        "2. `torch.load()` - load  a saved PyTorch object\n",
        "3. `torch.nn.Module.load_state_dict()` - allows to load a model's saved state dictionary\n",
        "\n",
        "\n",
        "https://pytorch.org/tutorials/recipes/recipes/saving_and_loading_models_for_inference.html#saving-and-loading-models-for-inference-in-pytorch"
      ],
      "metadata": {
        "id": "9GyFV_vfDyjY"
      }
    },
    {
      "cell_type": "markdown",
      "source": [
        "### Saving the model"
      ],
      "metadata": {
        "id": "PobBkfu27_k4"
      }
    },
    {
      "cell_type": "code",
      "source": [
        "from pathlib import Path\n",
        "\n",
        "# Create models directory\n",
        "MODEL_PATH = Path(\"models\")\n",
        "MODEL_PATH.mkdir(parents = True , exist_ok = True)\n",
        "\n",
        "# Create a model save path\n",
        "MODEL_NAME = \"01_pytorch_workflow_run_model_0.pth\"\n",
        "MODEL_SAVE_PATH = MODEL_PATH / MODEL_NAME\n",
        "\n",
        "# Saving the model\n",
        "print(f\"Saving the model to path : {MODEL_SAVE_PATH}\")\n",
        "torch.save(obj = model_0.state_dict(),\n",
        "           f=MODEL_SAVE_PATH)"
      ],
      "metadata": {
        "colab": {
          "base_uri": "https://localhost:8080/"
        },
        "id": "OFh6mansDygZ",
        "outputId": "78c1ad9b-c455-4d04-cc99-dcc3dba37af8"
      },
      "execution_count": 21,
      "outputs": [
        {
          "output_type": "stream",
          "name": "stdout",
          "text": [
            "Saving the model to path : models/01_pytorch_workflow_run_model_0.pth\n"
          ]
        }
      ]
    },
    {
      "cell_type": "code",
      "source": [
        "!ls -l models"
      ],
      "metadata": {
        "colab": {
          "base_uri": "https://localhost:8080/"
        },
        "id": "M3ca2WQEDyde",
        "outputId": "408d5466-7c85-4e05-8cb0-9eb308be170b"
      },
      "execution_count": 22,
      "outputs": [
        {
          "output_type": "stream",
          "name": "stdout",
          "text": [
            "total 4\n",
            "-rw-r--r-- 1 root root 1223 May 31 20:46 01_pytorch_workflow_run_model_0.pth\n"
          ]
        }
      ]
    },
    {
      "cell_type": "markdown",
      "source": [
        "### Loading the model"
      ],
      "metadata": {
        "id": "7oVgf97E8CCJ"
      }
    },
    {
      "cell_type": "code",
      "source": [
        "loaded_model_0 = LinearRegressionModel()\n",
        "loaded_model_0.state_dict()"
      ],
      "metadata": {
        "colab": {
          "base_uri": "https://localhost:8080/"
        },
        "id": "Ugfb6Ls0DybD",
        "outputId": "a7c44efa-72cc-4738-878f-7af4be74bbf0"
      },
      "execution_count": 23,
      "outputs": [
        {
          "output_type": "execute_result",
          "data": {
            "text/plain": [
              "OrderedDict([('weights', tensor([0.2345])), ('bias', tensor([0.2303]))])"
            ]
          },
          "metadata": {},
          "execution_count": 23
        }
      ]
    },
    {
      "cell_type": "code",
      "source": [
        "loaded_model_0.load_state_dict(torch.load(f = MODEL_SAVE_PATH) )\n",
        "loaded_model_0.state_dict()"
      ],
      "metadata": {
        "colab": {
          "base_uri": "https://localhost:8080/"
        },
        "id": "HF3WvtQlDyYD",
        "outputId": "9f8e9473-a4fa-4d7c-fbad-f705b829bc68"
      },
      "execution_count": 24,
      "outputs": [
        {
          "output_type": "execute_result",
          "data": {
            "text/plain": [
              "OrderedDict([('weights', tensor([0.6990])), ('bias', tensor([0.3093]))])"
            ]
          },
          "metadata": {},
          "execution_count": 24
        }
      ]
    },
    {
      "cell_type": "code",
      "source": [
        "model_0.state_dict()"
      ],
      "metadata": {
        "colab": {
          "base_uri": "https://localhost:8080/"
        },
        "id": "lLwHpu1dDyVD",
        "outputId": "f8c65c61-ac66-48a1-c009-d08b92202031"
      },
      "execution_count": 25,
      "outputs": [
        {
          "output_type": "execute_result",
          "data": {
            "text/plain": [
              "OrderedDict([('weights', tensor([0.6990])), ('bias', tensor([0.3093]))])"
            ]
          },
          "metadata": {},
          "execution_count": 25
        }
      ]
    },
    {
      "cell_type": "code",
      "source": [
        "loaded_model_0.eval()\n",
        "with torch.inference_mode():\n",
        "    loaded_pred = loaded_model_0(X_test)"
      ],
      "metadata": {
        "id": "crYA4VxWDyRp"
      },
      "execution_count": 26,
      "outputs": []
    },
    {
      "cell_type": "code",
      "source": [
        "# Compare the predictions\n",
        "\n",
        "y_preds_new == loaded_pred"
      ],
      "metadata": {
        "colab": {
          "base_uri": "https://localhost:8080/"
        },
        "id": "cRkD7f7sDyK0",
        "outputId": "f5b56bf7-a4f9-43eb-8246-82a94ac287d0"
      },
      "execution_count": 27,
      "outputs": [
        {
          "output_type": "execute_result",
          "data": {
            "text/plain": [
              "tensor([[True],\n",
              "        [True],\n",
              "        [True],\n",
              "        [True],\n",
              "        [True],\n",
              "        [True],\n",
              "        [True],\n",
              "        [True],\n",
              "        [True],\n",
              "        [True]])"
            ]
          },
          "metadata": {},
          "execution_count": 27
        }
      ]
    },
    {
      "cell_type": "markdown",
      "source": [
        "## 6. Putting it all together"
      ],
      "metadata": {
        "id": "LzvzHDal_-hZ"
      }
    },
    {
      "cell_type": "markdown",
      "source": [
        "### 6.1 Data"
      ],
      "metadata": {
        "id": "cC94xV-DmjOI"
      }
    },
    {
      "cell_type": "code",
      "source": [
        "# Import libraries\n",
        "\n",
        "import torch\n",
        "from torch import nn\n",
        "import matplotlib.pyplot as plt\n",
        "\n",
        "# Check PyTorch Version\n",
        "torch.__version__"
      ],
      "metadata": {
        "colab": {
          "base_uri": "https://localhost:8080/",
          "height": 35
        },
        "id": "X4QF7YYg9Nfy",
        "outputId": "c45422a6-e83b-405a-f922-ac4dd34434d4"
      },
      "execution_count": 28,
      "outputs": [
        {
          "output_type": "execute_result",
          "data": {
            "text/plain": [
              "'2.0.1+cu118'"
            ],
            "application/vnd.google.colaboratory.intrinsic+json": {
              "type": "string"
            }
          },
          "metadata": {},
          "execution_count": 28
        }
      ]
    },
    {
      "cell_type": "markdown",
      "source": [
        "Checing device agnostic code.\n",
        "\n",
        "If we have access to GPU, we will use it, if not we will use CPU."
      ],
      "metadata": {
        "id": "76EEy7DV8-Ly"
      }
    },
    {
      "cell_type": "code",
      "source": [
        "device = \"cuda\" if torch.cuda.is_available() else \"cpu\"\n",
        "print(f\"Using the device : {device}\")"
      ],
      "metadata": {
        "colab": {
          "base_uri": "https://localhost:8080/"
        },
        "id": "eZj2iVLN89_T",
        "outputId": "be2f7716-7323-40ba-c783-4904859afe9a"
      },
      "execution_count": 29,
      "outputs": [
        {
          "output_type": "stream",
          "name": "stdout",
          "text": [
            "Using the device : cuda\n"
          ]
        }
      ]
    },
    {
      "cell_type": "code",
      "source": [
        "!nvidia-smi"
      ],
      "metadata": {
        "colab": {
          "base_uri": "https://localhost:8080/"
        },
        "id": "mnatt65b893Q",
        "outputId": "1aa65760-7929-42b3-f1a8-2f515cc41523"
      },
      "execution_count": 30,
      "outputs": [
        {
          "output_type": "stream",
          "name": "stdout",
          "text": [
            "Wed May 31 20:46:29 2023       \n",
            "+-----------------------------------------------------------------------------+\n",
            "| NVIDIA-SMI 525.85.12    Driver Version: 525.85.12    CUDA Version: 12.0     |\n",
            "|-------------------------------+----------------------+----------------------+\n",
            "| GPU  Name        Persistence-M| Bus-Id        Disp.A | Volatile Uncorr. ECC |\n",
            "| Fan  Temp  Perf  Pwr:Usage/Cap|         Memory-Usage | GPU-Util  Compute M. |\n",
            "|                               |                      |               MIG M. |\n",
            "|===============================+======================+======================|\n",
            "|   0  Tesla T4            Off  | 00000000:00:04.0 Off |                    0 |\n",
            "| N/A   74C    P8    14W /  70W |      3MiB / 15360MiB |      0%      Default |\n",
            "|                               |                      |                  N/A |\n",
            "+-------------------------------+----------------------+----------------------+\n",
            "                                                                               \n",
            "+-----------------------------------------------------------------------------+\n",
            "| Processes:                                                                  |\n",
            "|  GPU   GI   CI        PID   Type   Process name                  GPU Memory |\n",
            "|        ID   ID                                                   Usage      |\n",
            "|=============================================================================|\n",
            "|  No running processes found                                                 |\n",
            "+-----------------------------------------------------------------------------+\n"
          ]
        }
      ]
    },
    {
      "cell_type": "code",
      "source": [
        "# Creating the known parameters \n",
        "\n",
        "weight = 0.7\n",
        "bias =0.3\n",
        "\n",
        "# Creating the data\n",
        "\n",
        "start = 0\n",
        "end = 1\n",
        "step = 0.02\n",
        "\n",
        "# Create X and y\n",
        "\n",
        "X = torch.arange(start,end,step).unsqueeze(dim=1)\n",
        "y = (weight * X + bias)"
      ],
      "metadata": {
        "id": "ek08gYuH89z-"
      },
      "execution_count": 31,
      "outputs": []
    },
    {
      "cell_type": "code",
      "source": [
        "# Split the data\n",
        "train_split = int(0.8 * len(X))\n",
        "X_train , y_train = X[:train_split] , y[:train_split]\n",
        "X_test , y_test = X[train_split:] , y[train_split:]"
      ],
      "metadata": {
        "id": "oycb7shc89gL"
      },
      "execution_count": 32,
      "outputs": []
    },
    {
      "cell_type": "code",
      "source": [
        "def plot_predictions(train_data = X_train,\n",
        "                     train_labels = y_train,\n",
        "                     test_data = X_test,\n",
        "                     test_labels = y_test,\n",
        "                     predictions = None) :\n",
        "                     \"\"\"\n",
        "                     Plots training and test data and compares the predictions.\n",
        "                     \"\"\"\n",
        "\n",
        "                     plt.figure(figsize = (10,7))\n",
        "                     \n",
        "                     # Plotting the training data \n",
        "                     plt.scatter(train_data , train_labels , c='b', s=4 , label =\"Training data\")\n",
        "\n",
        "                     # Plotting the test data\n",
        "                     plt.scatter(test_data , test_labels , c='g' , s=4 , label =\"Testing data\")\n",
        "\n",
        "                     # If there are predictions, plot the predictions\n",
        "                     if predictions is not None:\n",
        "\n",
        "                        #Plotting the predictions\n",
        "                        plt.scatter(test_data , predictions , c='r' , s=4 , label = \"Predictions\")\n",
        "                     plt.legend(prop = {\"size\" : 14 });"
      ],
      "metadata": {
        "id": "9yaRkxgLLZjU"
      },
      "execution_count": 33,
      "outputs": []
    },
    {
      "cell_type": "code",
      "source": [
        "plot_predictions(X_train,y_train,X_test,y_test)"
      ],
      "metadata": {
        "colab": {
          "base_uri": "https://localhost:8080/",
          "height": 599
        },
        "id": "ACvcyo-BLZg5",
        "outputId": "aa275d0a-8d0a-46e3-bd5b-489cef858003"
      },
      "execution_count": 34,
      "outputs": [
        {
          "output_type": "display_data",
          "data": {
            "text/plain": [
              "<Figure size 1000x700 with 1 Axes>"
            ],
            "image/png": "[encoded data removed]"
          },
          "metadata": {}
        }
      ]
    },
    {
      "cell_type": "markdown",
      "source": [
        "### 6.2 Build the model"
      ],
      "metadata": {
        "id": "al12ulcrmpI7"
      }
    },
    {
      "cell_type": "code",
      "source": [
        "class LinearRegressionModelV2(nn.Module):\n",
        "    def __init__(self):\n",
        "        super().__init__()\n",
        "\n",
        "        # Using PyTorch for the Linear model\n",
        "        self.linear_layer = nn.Linear(in_features = 1,\n",
        "                                      out_features = 1)\n",
        "    \n",
        "    def forward(self , x : torch.Tensor) -> torch.Tensor :\n",
        "        return self.linear_layer(x)"
      ],
      "metadata": {
        "id": "9XkRElnPLZel"
      },
      "execution_count": 35,
      "outputs": []
    },
    {
      "cell_type": "code",
      "source": [
        "torch.manual_seed(42)\n",
        "\n",
        "model_1 = LinearRegressionModelV2()\n",
        "model_1 , model_1.state_dict()"
      ],
      "metadata": {
        "colab": {
          "base_uri": "https://localhost:8080/"
        },
        "id": "xhhVd23KLZbv",
        "outputId": "63ebcca1-974b-4118-d83a-32ef31ba5da8"
      },
      "execution_count": 36,
      "outputs": [
        {
          "output_type": "execute_result",
          "data": {
            "text/plain": [
              "(LinearRegressionModelV2(\n",
              "   (linear_layer): Linear(in_features=1, out_features=1, bias=True)\n",
              " ),\n",
              " OrderedDict([('linear_layer.weight', tensor([[0.7645]])),\n",
              "              ('linear_layer.bias', tensor([0.8300]))]))"
            ]
          },
          "metadata": {},
          "execution_count": 36
        }
      ]
    },
    {
      "cell_type": "code",
      "source": [
        "next(model_1.parameters()).device"
      ],
      "metadata": {
        "colab": {
          "base_uri": "https://localhost:8080/"
        },
        "id": "c-eP60dqLZZA",
        "outputId": "f94708ce-afa2-4b23-bc14-a7e70b62902c"
      },
      "execution_count": 37,
      "outputs": [
        {
          "output_type": "execute_result",
          "data": {
            "text/plain": [
              "device(type='cpu')"
            ]
          },
          "metadata": {},
          "execution_count": 37
        }
      ]
    },
    {
      "cell_type": "code",
      "source": [
        "model_1.to(device)\n",
        "next(model_1.parameters()).device"
      ],
      "metadata": {
        "colab": {
          "base_uri": "https://localhost:8080/"
        },
        "id": "DxRNOwEfLZWh",
        "outputId": "3f3cdcc9-098f-4277-9320-d0392da95046"
      },
      "execution_count": 38,
      "outputs": [
        {
          "output_type": "execute_result",
          "data": {
            "text/plain": [
              "device(type='cuda', index=0)"
            ]
          },
          "metadata": {},
          "execution_count": 38
        }
      ]
    },
    {
      "cell_type": "markdown",
      "source": [
        "### 6.3 Training and testing the model"
      ],
      "metadata": {
        "id": "jU5YsLFmmxAJ"
      }
    },
    {
      "cell_type": "code",
      "source": [
        "loss_fn = nn.L1Loss()\n",
        "\n",
        "optimizer = torch.optim.SGD(params = model_1.parameters(),\n",
        "                            lr = 0.01 )"
      ],
      "metadata": {
        "id": "EdrqKgw2LZUO"
      },
      "execution_count": 39,
      "outputs": []
    },
    {
      "cell_type": "code",
      "source": [
        "torch.manual_seed(42)\n",
        "\n",
        "epochs = 200\n",
        "\n",
        "X_train = X_train.to(device)\n",
        "y_train = y_train.to(device)\n",
        "X_test = X_test.to(device)\n",
        "y_test = y_test.to(device)\n",
        "\n",
        "for epoch in range(epochs):\n",
        "\n",
        "    model_1.train()\n",
        "\n",
        "    y_preds = model_1(X_train)\n",
        "\n",
        "    loss = loss_fn(y_preds,y_train)\n",
        "\n",
        "    optimizer.zero_grad()\n",
        "\n",
        "    loss.backward()\n",
        "\n",
        "    optimizer.step()\n",
        "\n",
        "    model_1.eval()\n",
        "\n",
        "    with torch.inference_mode():\n",
        "        test_pred = model_1(X_test)\n",
        "\n",
        "        test_loss = loss_fn(test_pred,y_test)\n",
        "\n",
        "    if epoch % 10 == 0:\n",
        "        print(f\"Epoch : {epoch} \\t| Loss : {loss} \\t\\t| Test Loss : {test_loss}\")"
      ],
      "metadata": {
        "colab": {
          "base_uri": "https://localhost:8080/"
        },
        "id": "aFxMwD99LZRh",
        "outputId": "9c36f616-cebe-4e8f-e97c-f6d459117def"
      },
      "execution_count": 40,
      "outputs": [
        {
          "output_type": "stream",
          "name": "stdout",
          "text": [
            "Epoch : 0 \t| Loss : 0.5551779866218567 \t\t\t| Test Loss : 0.5739762187004089\n",
            "Epoch : 10 \t| Loss : 0.439968079328537 \t\t\t| Test Loss : 0.4392664134502411\n",
            "Epoch : 20 \t| Loss : 0.3247582018375397 \t\t\t| Test Loss : 0.30455657839775085\n",
            "Epoch : 30 \t| Loss : 0.20954833924770355 \t\t\t| Test Loss : 0.16984669864177704\n",
            "Epoch : 40 \t| Loss : 0.09433845430612564 \t\t\t| Test Loss : 0.03513690456748009\n",
            "Epoch : 50 \t| Loss : 0.023886388167738914 \t\t\t| Test Loss : 0.04784907028079033\n",
            "Epoch : 60 \t| Loss : 0.019956795498728752 \t\t\t| Test Loss : 0.045803118497133255\n",
            "Epoch : 70 \t| Loss : 0.016517987474799156 \t\t\t| Test Loss : 0.037530567497015\n",
            "Epoch : 80 \t| Loss : 0.013089174404740334 \t\t\t| Test Loss : 0.02994490973651409\n",
            "Epoch : 90 \t| Loss : 0.009653178043663502 \t\t\t| Test Loss : 0.02167237363755703\n",
            "Epoch : 100 \t| Loss : 0.006215683650225401 \t\t\t| Test Loss : 0.014086711220443249\n",
            "Epoch : 110 \t| Loss : 0.00278724217787385 \t\t\t| Test Loss : 0.005814164876937866\n",
            "Epoch : 120 \t| Loss : 0.0012645035749301314 \t\t\t| Test Loss : 0.013801801018416882\n",
            "Epoch : 130 \t| Loss : 0.0012645035749301314 \t\t\t| Test Loss : 0.013801801018416882\n",
            "Epoch : 140 \t| Loss : 0.0012645035749301314 \t\t\t| Test Loss : 0.013801801018416882\n",
            "Epoch : 150 \t| Loss : 0.0012645035749301314 \t\t\t| Test Loss : 0.013801801018416882\n",
            "Epoch : 160 \t| Loss : 0.0012645035749301314 \t\t\t| Test Loss : 0.013801801018416882\n",
            "Epoch : 170 \t| Loss : 0.0012645035749301314 \t\t\t| Test Loss : 0.013801801018416882\n",
            "Epoch : 180 \t| Loss : 0.0012645035749301314 \t\t\t| Test Loss : 0.013801801018416882\n",
            "Epoch : 190 \t| Loss : 0.0012645035749301314 \t\t\t| Test Loss : 0.013801801018416882\n"
          ]
        }
      ]
    },
    {
      "cell_type": "code",
      "source": [
        "model_1.state_dict()"
      ],
      "metadata": {
        "id": "mqAwtFkCLZOy",
        "colab": {
          "base_uri": "https://localhost:8080/"
        },
        "outputId": "3bf88abf-7386-4614-fda3-b56f3ac723b5"
      },
      "execution_count": 41,
      "outputs": [
        {
          "output_type": "execute_result",
          "data": {
            "text/plain": [
              "OrderedDict([('linear_layer.weight', tensor([[0.6968]], device='cuda:0')),\n",
              "             ('linear_layer.bias', tensor([0.3025], device='cuda:0'))])"
            ]
          },
          "metadata": {},
          "execution_count": 41
        }
      ]
    },
    {
      "cell_type": "markdown",
      "source": [
        "### 6.4 Evaluating the model"
      ],
      "metadata": {
        "id": "-nLtoprAm4c9"
      }
    },
    {
      "cell_type": "code",
      "source": [
        "model_1.eval()\n",
        "\n",
        "with torch.inference_mode():\n",
        "    y_preds_new = model_1(X_test)"
      ],
      "metadata": {
        "id": "TwzHik5aOt8y"
      },
      "execution_count": 42,
      "outputs": []
    },
    {
      "cell_type": "code",
      "source": [
        "plot_predictions(predictions = y_preds_new.cpu())"
      ],
      "metadata": {
        "id": "J2yRn6PlOt6L",
        "colab": {
          "base_uri": "https://localhost:8080/",
          "height": 599
        },
        "outputId": "3450e930-2c91-496c-af7a-ff3a95cfb34a"
      },
      "execution_count": 44,
      "outputs": [
        {
          "output_type": "display_data",
          "data": {
            "text/plain": [
              "<Figure size 1000x700 with 1 Axes>"
            ],
            "image/png": "[encoded data removed]"
          },
          "metadata": {}
        }
      ]
    },
    {
      "cell_type": "markdown",
      "source": [
        "### 6.5 Saving and loading the model"
      ],
      "metadata": {
        "id": "q3VBeajsm9qN"
      }
    },
    {
      "cell_type": "code",
      "source": [
        "from pathlib import Path\n",
        "\n",
        "# Create models directory\n",
        "MODEL_PATH = Path(\"models\")\n",
        "MODEL_PATH.mkdir(parents = True , exist_ok = True)\n",
        "\n",
        "# Create a model save path\n",
        "MODEL_NAME = \"01_pytorch_workflow_run_model_1.pth\"\n",
        "MODEL_SAVE_PATH = MODEL_PATH / MODEL_NAME\n",
        "\n",
        "# Saving the model\n",
        "print(f\"Saving the model to path : {MODEL_SAVE_PATH}\")\n",
        "torch.save(obj = model_1.state_dict(),\n",
        "           f=MODEL_SAVE_PATH)"
      ],
      "metadata": {
        "id": "ASa0VCzGOt3l",
        "colab": {
          "base_uri": "https://localhost:8080/"
        },
        "outputId": "dd0cb20f-a715-4e42-b14b-4c985e29e7ec"
      },
      "execution_count": 45,
      "outputs": [
        {
          "output_type": "stream",
          "name": "stdout",
          "text": [
            "Saving the model to path : models/01_pytorch_workflow_run_model_1.pth\n"
          ]
        }
      ]
    },
    {
      "cell_type": "code",
      "source": [
        "loaded_model_1 = LinearRegressionModelV2()\n",
        "loaded_model_1.load_state_dict(torch.load( f = MODEL_SAVE_PATH))\n",
        "loaded_model_1.to(device)"
      ],
      "metadata": {
        "colab": {
          "base_uri": "https://localhost:8080/"
        },
        "id": "ofKnZPPalSi7",
        "outputId": "ef5de39c-6c16-44e6-ef2c-08afb8361c90"
      },
      "execution_count": 48,
      "outputs": [
        {
          "output_type": "execute_result",
          "data": {
            "text/plain": [
              "LinearRegressionModelV2(\n",
              "  (linear_layer): Linear(in_features=1, out_features=1, bias=True)\n",
              ")"
            ]
          },
          "metadata": {},
          "execution_count": 48
        }
      ]
    },
    {
      "cell_type": "code",
      "source": [
        "loaded_model_1.eval()\n",
        "with torch.inference_mode():\n",
        "    loaded_preds = loaded_model_1(X_test)\n",
        "\n",
        "y_preds_new == loaded_preds"
      ],
      "metadata": {
        "colab": {
          "base_uri": "https://localhost:8080/"
        },
        "id": "HE-XyFOKlvKr",
        "outputId": "12e076e2-5ae9-492f-c193-1315889e80a0"
      },
      "execution_count": 49,
      "outputs": [
        {
          "output_type": "execute_result",
          "data": {
            "text/plain": [
              "tensor([[True],\n",
              "        [True],\n",
              "        [True],\n",
              "        [True],\n",
              "        [True],\n",
              "        [True],\n",
              "        [True],\n",
              "        [True],\n",
              "        [True],\n",
              "        [True]], device='cuda:0')"
            ]
          },
          "metadata": {},
          "execution_count": 49
        }
      ]
    },
    {
      "cell_type": "code",
      "source": [],
      "metadata": {
        "id": "fzYLX8S2l9Ni"
      },
      "execution_count": null,
      "outputs": []
    }
  ]
}